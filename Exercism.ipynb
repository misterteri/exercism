{
 "cells": [
  {
   "cell_type": "code",
   "execution_count": 103,
   "metadata": {},
   "outputs": [],
   "source": [
    "## Armstrong numbers\n",
    "## Numbers\n",
    "\n",
    "def is_armstrong_number(number):\n",
    "    total = 0\n",
    "    power = int(len(str(number)))  \n",
    "    print (power)\n",
    "    number2 = number\n",
    "    for x in range(power-1,0-1,-1): \n",
    "        print (\"x = \", x)\n",
    "        denom = int(number2/(10 ** x)) \n",
    "        number2 = number2 - denom * (10 ** x)\n",
    "        print (\"denom = \", denom )\n",
    "        print (\"number2 = \", number2)\n",
    "        total = denom ** power + total\n",
    "        print (\"total = \", total)\n",
    "\n",
    "    if total == number :\n",
    "        return True\n",
    " \n",
    "\n",
    "    return False\n"
   ]
  },
  {
   "cell_type": "code",
   "execution_count": 104,
   "metadata": {},
   "outputs": [
    {
     "name": "stdout",
     "output_type": "stream",
     "text": [
      "3\n",
      "x =  2\n",
      "denom =  1\n",
      "number2 =  53\n",
      "total =  1\n",
      "x =  1\n",
      "denom =  5\n",
      "number2 =  3\n",
      "total =  126\n",
      "x =  0\n",
      "denom =  3\n",
      "number2 =  0\n",
      "total =  153\n"
     ]
    },
    {
     "data": {
      "text/plain": [
       "True"
      ]
     },
     "execution_count": 104,
     "metadata": {},
     "output_type": "execute_result"
    }
   ],
   "source": [
    "is_armstrong_number(153)"
   ]
  },
  {
   "cell_type": "code",
   "execution_count": 9,
   "metadata": {},
   "outputs": [],
   "source": [
    "## Difference of squares\n",
    "## Numbers\n",
    "\n",
    "def square_of_sum(number):\n",
    "    total = 0\n",
    "    for x in range(number+1):\n",
    "        total += x\n",
    "\n",
    "    return total ** 2\n",
    "\n",
    "def sum_of_squares(number):\n",
    "    total = 0\n",
    "    for x in range(number+1):\n",
    "        total = x ** 2 + total\n",
    "\n",
    "    return total\n",
    "\n",
    "\n",
    "def difference_of_squares(number):\n",
    "    return square_of_sum(number) - sum_of_squares(number)\n",
    "    \n"
   ]
  },
  {
   "cell_type": "code",
   "execution_count": 10,
   "metadata": {},
   "outputs": [
    {
     "data": {
      "text/plain": [
       "2640"
      ]
     },
     "execution_count": 10,
     "metadata": {},
     "output_type": "execute_result"
    }
   ],
   "source": [
    "difference_of_squares(10)"
   ]
  },
  {
   "cell_type": "code",
   "execution_count": null,
   "metadata": {},
   "outputs": [],
   "source": [
    "## Meltdown Mitigation\n",
    "## Conditionals\n",
    "\n",
    "\"\"\"Functions to prevent a nuclear meltdown.\"\"\"\n",
    "\n",
    "\n",
    "def is_criticality_balanced(temperature, neutrons_emitted):\n",
    "    \"\"\"Verify criticality is balanced.\n",
    "\n",
    "    :param temperature: int or float - temperature value in kelvin.\n",
    "    :param neutrons_emitted: int or float - number of neutrons emitted per second.\n",
    "    :return: bool - is criticality balanced?\n",
    "\n",
    "    A reactor is said to be critical if it satisfies the following conditions:\n",
    "    - The temperature is less than 800 K.\n",
    "    - The number of neutrons emitted per second is greater than 500.\n",
    "    - The product of temperature and neutrons emitted per second is less than 500000.\n",
    "    \"\"\"\n",
    "    product = temperature * neutrons_emitted\n",
    "    if temperature < 800 and neutrons_emitted > 500 and product < 500000: \n",
    "        return True\n",
    "\n",
    "    return False\n",
    "\n",
    "def reactor_efficiency(voltage, current, theoretical_max_power):\n",
    "    \"\"\"Assess reactor efficiency zone.\n",
    "\n",
    "    :param voltage: int or float - voltage value.\n",
    "    :param current: int or float - current value.\n",
    "    :param theoretical_max_power: int or float - power that corresponds to a 100% efficiency.\n",
    "    :return: str - one of ('green', 'orange', 'red', or 'black').\n",
    "\n",
    "    Efficiency can be grouped into 4 bands:\n",
    "\n",
    "    1. green -> efficiency of 80% or more,\n",
    "    2. orange -> efficiency of less than 80% but at least 60%,\n",
    "    3. red -> efficiency below 60%, but still 30% or more,\n",
    "    4. black ->  less than 30% efficient.\n",
    "\n",
    "    The percentage value is calculated as\n",
    "    (generated power/ theoretical max power)*100\n",
    "    where generated power = voltage * current\n",
    "    \"\"\"\n",
    "\n",
    "    generated_power = voltage * current\n",
    "\n",
    "    percentage_value = (generated_power / theoretical_max_power ) * 100\n",
    "\n",
    "    if percentage_value >= 80:\n",
    "        return (\"green\")\n",
    "    elif percentage_value >= 60:\n",
    "        return (\"orange\")\n",
    "    elif percentage_value >= 30:\n",
    "        return (\"red\")\n",
    "    \n",
    "    return (\"black\")\n",
    "\n",
    "\n",
    "def fail_safe(temperature, neutrons_produced_per_second, threshold):\n",
    "    \"\"\"Assess and return status code for the reactor.\n",
    "\n",
    "    :param temperature: int or float - value of the temperature in kelvin.\n",
    "    :param neutrons_produced_per_second: int or float - neutron flux.\n",
    "    :param threshold: int or float - threshold for category.\n",
    "    :return: str - one of ('LOW', 'NORMAL', 'DANGER').\n",
    "\n",
    "    1. 'LOW' -> `temperature * neutrons per second` < 90% of `threshold`\n",
    "    2. 'NORMAL' -> `temperature * neutrons per second` +/- 10% of `threshold`\n",
    "    3. 'DANGER' -> `temperature * neutrons per second` is not in the above-stated ranges\n",
    "    \"\"\"\n",
    "    condition = ((temperature * neutrons_produced_per_second) / threshold) * 100\n",
    "\n",
    "    if condition < 90:\n",
    "        return (\"LOW\")\n",
    "\n",
    "    if condition < 110 and condition > 90:\n",
    "        return (\"NORMAL\")\n",
    "\n",
    "    return (\"DANGER\")\n",
    "    \n",
    "\n",
    "    \n"
   ]
  },
  {
   "cell_type": "code",
   "execution_count": null,
   "metadata": {},
   "outputs": [],
   "source": [
    "## Bob\n",
    "## Conditionals\n",
    "def response(hey_bob):\n",
    "\n",
    "    if hey_bob.isupper():\n",
    "        if hey_bob.endswith(\"?\"):\n",
    "            return \"Calm down, I know what I'm doing!\"\n",
    "        else:\n",
    "            return \"Whoa, chill out!\"\n",
    "    else:\n",
    "        if hey_bob.strip().endswith(\"?\"):\n",
    "            return \"Sure.\"\n",
    "\n",
    "    if not hey_bob.strip():\n",
    "        return 'Fine. Be that way!'\n",
    "    \n",
    "    return 'Whatever.'\n"
   ]
  },
  {
   "cell_type": "code",
   "execution_count": 3,
   "metadata": {},
   "outputs": [],
   "source": [
    "## Leap \n",
    "## Bool\n",
    "\n",
    "def leap_year(year):\n",
    "    condition_1 = (year / 4.0).is_integer()\n",
    "    condition_2 = (year / 100.0).is_integer()\n",
    "    condition_3 = (year / 400.0).is_integer()\n",
    "\n",
    "    if condition_1 and (not condition_2 or condition_3):\n",
    "        return True\n",
    "\n",
    "    return False"
   ]
  },
  {
   "cell_type": "code",
   "execution_count": 7,
   "metadata": {},
   "outputs": [
    {
     "data": {
      "text/plain": [
       "True"
      ]
     },
     "execution_count": 7,
     "metadata": {},
     "output_type": "execute_result"
    }
   ],
   "source": [
    "\n",
    "(2016.0).is_integer()"
   ]
  },
  {
   "cell_type": "code",
   "execution_count": 28,
   "metadata": {},
   "outputs": [],
   "source": [
    "## Collatz Conjecture\n",
    "## Numbers\n",
    "\n",
    "def steps(number):\n",
    "    n = 0\n",
    "    # example when argument is zero or a negative integer\n",
    "    if number <= 0:\n",
    "        raise ValueError(\"Only positive integers are allowed\")\n",
    "        \n",
    "    while number != 1:\n",
    "        if number % 2 == 0:\n",
    "            number = number / 2\n",
    "            print (\"Even \", number)\n",
    "            n += 1\n",
    "        else:\n",
    "            number = (number * 3) + 1\n",
    "            print (\"Odd \", number)\n",
    "            n += 1\n",
    "        print (\"n = \", n)\n",
    "        number = int(number)\n",
    "        \n",
    "\n",
    "    return n\n"
   ]
  },
  {
   "cell_type": "code",
   "execution_count": null,
   "metadata": {},
   "outputs": [],
   "source": [
    "## Little Sister's Vocabulary\n",
    "## Strings\n",
    "\n"
   ]
  },
  {
   "cell_type": "code",
   "execution_count": 20,
   "metadata": {},
   "outputs": [],
   "source": [
    "## Black Jack\n",
    "## Conditionals\n",
    "\n",
    "\"\"\"Functions to help play and score a game of blackjack.\n",
    "\n",
    "How to play blackjack:    https://bicyclecards.com/how-to-play/blackjack/\n",
    "\"Standard\" playing cards: https://en.wikipedia.org/wiki/Standard_52-card_deck\n",
    "\"\"\"\n",
    "\n",
    "\n",
    "def value_of_card(card):\n",
    "    \"\"\"Determine the scoring value of a card.\n",
    "\n",
    "    :param card: str - given card.\n",
    "    :return: int - value of a given card.  See below for values.\n",
    "\n",
    "    1.  'J', 'Q', or 'K' (otherwise known as \"face cards\") = 10\n",
    "    2.  'A' (ace card) = 1\n",
    "    3.  '2' - '10' = numerical value.\n",
    "    \"\"\"\n",
    "    if card.isdigit() and int(card) >= 2 and int(card) <= 10:\n",
    "            return int(card)\n",
    "    elif card == 'J' or card == 'Q' or card == 'K':\n",
    "        return 10\n",
    "    elif card == 'A':\n",
    "        return 1\n",
    "    else:\n",
    "        return -1\n",
    "\n",
    "\n",
    "\n",
    "def higher_card(card_one, card_two):\n",
    "    \"\"\"Determine which card has a higher value in the hand.\n",
    "\n",
    "    :param card_one, card_two: str - cards dealt in hand.  See below for values.\n",
    "    :return: str or tuple - resulting Tuple contains both cards if they are of equal value.\n",
    "\n",
    "    1.  'J', 'Q', or 'K' (otherwise known as \"face cards\") = 10\n",
    "    2.  'A' (ace card) = 1\n",
    "    3.  '2' - '10' = numerical value.\n",
    "    \"\"\"\n",
    "    a = int (value_of_card(card_one))\n",
    "    b = int (value_of_card(card_two))\n",
    "    \n",
    "    if a > b:\n",
    "        return card_one\n",
    "    elif b > a:\n",
    "        return card_two\n",
    "    else:\n",
    "        return (card_one, card_two)\n",
    "    \n",
    "\n",
    "\n",
    "\n",
    "def value_of_ace(card_one, card_two):\n",
    "    \"\"\"Calculate the most advantageous value for the ace card.\n",
    "\n",
    "    :param card_one, card_two: str - card dealt. See below for values.\n",
    "    :return: int - either 1 or 11 value of the upcoming ace card.\n",
    "\n",
    "    1.  'J', 'Q', or 'K' (otherwise known as \"face cards\") = 10\n",
    "    2.  'A' (ace card) = 11 (if already in hand)\n",
    "    3.  '2' - '10' = numerical value.\n",
    "    \"\"\"\n",
    "    a = int (value_of_card(card_one))\n",
    "    b = int (value_of_card(card_two))\n",
    "    if a == 1:\n",
    "        a = 11\n",
    "    if b == 1:\n",
    "        b = 11\n",
    "    if a + b <= 10:\n",
    "        return 11\n",
    "    else:\n",
    "        return 1\n",
    "\n",
    "\n",
    "\n",
    "def is_blackjack(card_one, card_two):\n",
    "    \"\"\"Determine if the hand is a 'natural' or 'blackjack'.\n",
    "\n",
    "    :param card_one, card_two: str - card dealt. See below for values.\n",
    "    :return: bool - is the hand is a blackjack (two cards worth 21).\n",
    "\n",
    "    1.  'J', 'Q', or 'K' (otherwise known as \"face cards\") = 10\n",
    "    2.  'A' (ace card) = 11 (if already in hand)\n",
    "    3.  '2' - '10' = numerical value.\n",
    "    \"\"\"\n",
    "    a = int (value_of_card(card_one))\n",
    "    b = int (value_of_card(card_two))\n",
    "    if a == 1:\n",
    "        a = 11\n",
    "    if b == 1:\n",
    "        b = 11\n",
    "    if a + b == 21:\n",
    "        return True\n",
    "    else:\n",
    "        return False\n",
    "\n",
    "\n",
    "\n",
    "def can_split_pairs(card_one, card_two):\n",
    "    \"\"\"Determine if a player can split their hand into two hands.\n",
    "\n",
    "    :param card_one, card_two: str - cards dealt.\n",
    "    :return: bool - can the hand be split into two pairs? (i.e. cards are of the same value).\n",
    "    \"\"\"\n",
    "\n",
    "    a = int (value_of_card(card_one))\n",
    "    b = int (value_of_card(card_two))\n",
    "\n",
    "    if a == b:\n",
    "        return True\n",
    "    else:\n",
    "        return False\n",
    "\n",
    "\n",
    "def can_double_down(card_one, card_two):\n",
    "    \"\"\"Determine if a blackjack player can place a double down bet.\n",
    "\n",
    "    :param card_one, card_two: str - first and second cards in hand.\n",
    "    :return: bool - can the hand can be doubled down? (i.e. totals 9, 10 or 11 points).\n",
    "    \"\"\"\n",
    "\n",
    "    a = int (value_of_card(card_one))\n",
    "    b = int (value_of_card(card_two))\n",
    "\n",
    "    if a + b == 9 or a + b == 10 or a + b == 11:\n",
    "        return True\n",
    "    else:\n",
    "        return False\n"
   ]
  },
  {
   "cell_type": "code",
   "execution_count": 21,
   "metadata": {},
   "outputs": [
    {
     "data": {
      "text/plain": [
       "11"
      ]
     },
     "execution_count": 21,
     "metadata": {},
     "output_type": "execute_result"
    }
   ],
   "source": [
    "value_of_card('1')\n",
    "value_of_ace('A', 'A')"
   ]
  },
  {
   "cell_type": "code",
   "execution_count": 1,
   "metadata": {},
   "outputs": [],
   "source": [
    "## Two fer\n",
    "\n",
    "def two_fer(name):\n",
    "    if not name:\n",
    "        print(\"One for you, one for me\")\n",
    "    else:\n",
    "        print(\"One for \", name,\", one for me\")\n",
    "    \n"
   ]
  },
  {
   "cell_type": "code",
   "execution_count": 3,
   "metadata": {},
   "outputs": [
    {
     "name": "stdout",
     "output_type": "stream",
     "text": [
      "One for  a , one for me\n"
     ]
    }
   ],
   "source": [
    "two_fer(\"a\")"
   ]
  },
  {
   "cell_type": "code",
   "execution_count": null,
   "metadata": {},
   "outputs": [],
   "source": []
  },
  {
   "cell_type": "code",
   "execution_count": null,
   "metadata": {},
   "outputs": [],
   "source": []
  }
 ],
 "metadata": {
  "kernelspec": {
   "display_name": "py310",
   "language": "python",
   "name": "python3"
  },
  "language_info": {
   "codemirror_mode": {
    "name": "ipython",
    "version": 3
   },
   "file_extension": ".py",
   "mimetype": "text/x-python",
   "name": "python",
   "nbconvert_exporter": "python",
   "pygments_lexer": "ipython3",
   "version": "3.10.8"
  },
  "orig_nbformat": 4,
  "vscode": {
   "interpreter": {
    "hash": "aa6bec9eb781104254f6ae2de30a796e45a6585038812fad1975b2364cc365ea"
   }
  }
 },
 "nbformat": 4,
 "nbformat_minor": 2
}
