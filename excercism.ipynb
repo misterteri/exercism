{
 "cells": [
  {
   "cell_type": "code",
   "execution_count": 103,
   "metadata": {},
   "outputs": [],
   "source": [
    "def is_armstrong_number(number):\n",
    "    total = 0\n",
    "    power = int(len(str(number)))  \n",
    "    print (power)\n",
    "    number2 = number\n",
    "    for x in range(power-1,0-1,-1): \n",
    "        print (\"x = \", x)\n",
    "        denom = int(number2/(10 ** x)) \n",
    "        number2 = number2 - denom * (10 ** x)\n",
    "        print (\"denom = \", denom )\n",
    "        print (\"number2 = \", number2)\n",
    "        total = denom ** power + total\n",
    "        print (\"total = \", total)\n",
    "\n",
    "    if total == number :\n",
    "        return True\n",
    " \n",
    "\n",
    "    return False\n"
   ]
  },
  {
   "cell_type": "code",
   "execution_count": 104,
   "metadata": {},
   "outputs": [
    {
     "name": "stdout",
     "output_type": "stream",
     "text": [
      "3\n",
      "x =  2\n",
      "denom =  1\n",
      "number2 =  53\n",
      "total =  1\n",
      "x =  1\n",
      "denom =  5\n",
      "number2 =  3\n",
      "total =  126\n",
      "x =  0\n",
      "denom =  3\n",
      "number2 =  0\n",
      "total =  153\n"
     ]
    },
    {
     "data": {
      "text/plain": [
       "True"
      ]
     },
     "execution_count": 104,
     "metadata": {},
     "output_type": "execute_result"
    }
   ],
   "source": [
    "is_armstrong_number(153)"
   ]
  },
  {
   "cell_type": "code",
   "execution_count": 94,
   "metadata": {},
   "outputs": [
    {
     "name": "stdout",
     "output_type": "stream",
     "text": [
      "2\n",
      "1\n",
      "0\n"
     ]
    }
   ],
   "source": [
    "for x in range(2,-1,-1):\n",
    "    print (x)"
   ]
  },
  {
   "cell_type": "code",
   "execution_count": null,
   "metadata": {},
   "outputs": [],
   "source": []
  }
 ],
 "metadata": {
  "kernelspec": {
   "display_name": "py310",
   "language": "python",
   "name": "python3"
  },
  "language_info": {
   "codemirror_mode": {
    "name": "ipython",
    "version": 3
   },
   "file_extension": ".py",
   "mimetype": "text/x-python",
   "name": "python",
   "nbconvert_exporter": "python",
   "pygments_lexer": "ipython3",
   "version": "3.10.8"
  },
  "orig_nbformat": 4,
  "vscode": {
   "interpreter": {
    "hash": "aa6bec9eb781104254f6ae2de30a796e45a6585038812fad1975b2364cc365ea"
   }
  }
 },
 "nbformat": 4,
 "nbformat_minor": 2
}
